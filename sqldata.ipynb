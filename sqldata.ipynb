{
 "cells": [
  {
   "cell_type": "code",
   "execution_count": 1,
   "metadata": {
    "collapsed": false
   },
   "outputs": [],
   "source": [
    "from sqldata import Database"
   ]
  },
  {
   "cell_type": "code",
   "execution_count": 2,
   "metadata": {
    "collapsed": false
   },
   "outputs": [],
   "source": [
    "db = Database('sqlite:///database.sqlite')"
   ]
  },
  {
   "cell_type": "code",
   "execution_count": 3,
   "metadata": {
    "collapsed": false
   },
   "outputs": [],
   "source": [
    "records = db.query('SELECT * from Player limit 40')"
   ]
  },
  {
   "cell_type": "code",
   "execution_count": 4,
   "metadata": {
    "collapsed": false
   },
   "outputs": [
    {
     "data": {
      "text/plain": [
       "['Match',\n",
       " 'Team',\n",
       " 'Team_Attributes',\n",
       " 'sqlite_sequence',\n",
       " 'Player_Attributes',\n",
       " 'country',\n",
       " 'Player',\n",
       " 'League',\n",
       " 'Country']"
      ]
     },
     "execution_count": 4,
     "metadata": {},
     "output_type": "execute_result"
    }
   ],
   "source": [
    "db.table_names"
   ]
  },
  {
   "cell_type": "code",
   "execution_count": 10,
   "metadata": {
    "collapsed": false
   },
   "outputs": [
    {
     "data": {
      "text/html": [
       "<table style=\"font-size:10pt; white-space:nowrap;\">\n",
       "<tr><th>id</th> <th>player_api_id</th> <th>player_name</th> <th>player_fifa_api_id</th> <th>birthday</th> <th>height</th> <th>weight</th></tr>\n",
       "<tr><td>1</td> <td>505942</td> <td>Aaron Appindangoye</td> <td>218353</td> <td>1992-02-29 00:00:00</td> <td>182.88</td> <td>187</td></tr>\n",
       "<tr><td>2</td> <td>155782</td> <td>Aaron Cresswell</td> <td>189615</td> <td>1989-12-15 00:00:00</td> <td>170.18</td> <td>146</td></tr>\n",
       "<tr><td>3</td> <td>162549</td> <td>Aaron Doran</td> <td>186170</td> <td>1991-05-13 00:00:00</td> <td>170.18</td> <td>163</td></tr>\n",
       "<tr><td>4</td> <td>30572</td> <td>Aaron Galindo</td> <td>140161</td> <td>1982-05-08 00:00:00</td> <td>182.88</td> <td>198</td></tr>\n",
       "<tr><td>5</td> <td>23780</td> <td>Aaron Hughes</td> <td>17725</td> <td>1979-11-08 00:00:00</td> <td>182.88</td> <td>154</td></tr>\n",
       "<tr><td>6</td> <td>27316</td> <td>Aaron Hunt</td> <td>158138</td> <td>1986-09-04 00:00:00</td> <td>182.88</td> <td>161</td></tr>\n",
       "<tr><td>7</td> <td>564793</td> <td>Aaron Kuhl</td> <td>221280</td> <td>1996-01-30 00:00:00</td> <td>172.72</td> <td>146</td></tr>\n",
       "<tr><td>8</td> <td>30895</td> <td>Aaron Lennon</td> <td>152747</td> <td>1987-04-16 00:00:00</td> <td>165.1</td> <td>139</td></tr>\n",
       "<tr><td>9</td> <td>528212</td> <td>Aaron Lennox</td> <td>206592</td> <td>1993-02-19 00:00:00</td> <td>190.5</td> <td>181</td></tr>\n",
       "<tr><td>10</td> <td>101042</td> <td>Aaron Meijers</td> <td>188621</td> <td>1987-10-28 00:00:00</td> <td>175.26</td> <td>170</td></tr>\n",
       "\n",
       "</table>"
      ],
      "text/plain": [
       " id | player_api_id | player_name        | player_fifa_api_id | birthday            | height | weight \n",
       "----+---------------+--------------------+--------------------+---------------------+--------+--------\n",
       " 1  | 505942        | Aaron Appindangoye | 218353             | 1992-02-29 00:00:00 | 182.88 | 187    \n",
       " 2  | 155782        | Aaron Cresswell    | 189615             | 1989-12-15 00:00:00 | 170.18 | 146    \n",
       " 3  | 162549        | Aaron Doran        | 186170             | 1991-05-13 00:00:00 | 170.18 | 163    \n",
       " 4  | 30572         | Aaron Galindo      | 140161             | 1982-05-08 00:00:00 | 182.88 | 198    \n",
       " 5  | 23780         | Aaron Hughes       | 17725              | 1979-11-08 00:00:00 | 182.88 | 154    \n",
       " 6  | 27316         | Aaron Hunt         | 158138             | 1986-09-04 00:00:00 | 182.88 | 161    \n",
       " 7  | 564793        | Aaron Kuhl         | 221280             | 1996-01-30 00:00:00 | 172.72 | 146    \n",
       " 8  | 30895         | Aaron Lennon       | 152747             | 1987-04-16 00:00:00 | 165.1  | 139    \n",
       " 9  | 528212        | Aaron Lennox       | 206592             | 1993-02-19 00:00:00 | 190.5  | 181    \n",
       " 10 | 101042        | Aaron Meijers      | 188621             | 1987-10-28 00:00:00 | 175.26 | 170    "
      ]
     },
     "execution_count": 10,
     "metadata": {},
     "output_type": "execute_result"
    }
   ],
   "source": [
    "records.fetch().head()"
   ]
  },
  {
   "cell_type": "code",
   "execution_count": 11,
   "metadata": {
    "collapsed": false
   },
   "outputs": [],
   "source": [
    "import csv"
   ]
  },
  {
   "cell_type": "code",
   "execution_count": 20,
   "metadata": {
    "collapsed": false
   },
   "outputs": [],
   "source": [
    "with open('test.csv', 'w') as f:\n",
    "    csv_writer = csv.writer(f)\n",
    "    csv_writer.writerow(records.headers)\n",
    "    csv_writer.writerows(records.rows)"
   ]
  },
  {
   "cell_type": "code",
   "execution_count": null,
   "metadata": {
    "collapsed": false
   },
   "outputs": [],
   "source": [
    "records = db.query('SELECT date, home_player_1, away_player_1, home_team_goal, goal from Match '\n",
    "                   'WHERE home_player_1 != \"None\"'\n",
    "                   'limit 20').fetch()\n",
    "records"
   ]
  },
  {
   "cell_type": "code",
   "execution_count": null,
   "metadata": {
    "collapsed": false
   },
   "outputs": [],
   "source": [
    "rows = db.query('Select * From Player limit :lim', lim=5)"
   ]
  },
  {
   "cell_type": "code",
   "execution_count": null,
   "metadata": {
    "collapsed": false
   },
   "outputs": [],
   "source": [
    "rows.fetch()"
   ]
  },
  {
   "cell_type": "code",
   "execution_count": null,
   "metadata": {
    "collapsed": false
   },
   "outputs": [],
   "source": [
    "records = db.query('select * from analytics_tables.paid_student limit 10').fetch()"
   ]
  },
  {
   "cell_type": "code",
   "execution_count": null,
   "metadata": {
    "collapsed": true
   },
   "outputs": [],
   "source": []
  }
 ],
 "metadata": {
  "anaconda-cloud": {},
  "kernelspec": {
   "display_name": "Python [conda env:py3]",
   "language": "python",
   "name": "conda-env-py3-py"
  },
  "language_info": {
   "codemirror_mode": {
    "name": "ipython",
    "version": 3
   },
   "file_extension": ".py",
   "mimetype": "text/x-python",
   "name": "python",
   "nbconvert_exporter": "python",
   "pygments_lexer": "ipython3",
   "version": "3.5.2"
  }
 },
 "nbformat": 4,
 "nbformat_minor": 2
}
